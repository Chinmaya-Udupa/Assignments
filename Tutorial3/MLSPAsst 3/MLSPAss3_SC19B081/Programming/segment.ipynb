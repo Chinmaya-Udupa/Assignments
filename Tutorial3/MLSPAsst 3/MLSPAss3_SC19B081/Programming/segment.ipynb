{
 "cells": [
  {
   "cell_type": "markdown",
   "metadata": {},
   "source": [
    "# SC19B081\n",
    "\n",
    "You will next test your implementation by applying clustering to segment \n",
    "and recolor an image. Write your code in a script segment.ipynb . \n",
    "1. [5 pts] Download the following images: panda, cardinal. Load \n",
    "them in python using image reading function. This will return a \n",
    "HxWx3 matrix per image, where H and W denote height and width, \n",
    "and the image has three channels (R, G, B). Convert the image to \n",
    "double format. To avoid a long run of your code, downsample the \n",
    "images (reduce their size) e.g. using image resize(im, [100 \n",
    "100])function.\n",
    "2. [5 pts] To perform segmentation, you need a representation for every \n",
    "image pixel. We will use a three-dimensional feature representation \n",
    "for each pixel, consisting of the R, G and B values of each pixel. Use \n",
    "im = reshape(im, H*W, 3); to convert the 3D matrix into a \n",
    "2D matrix with pixels as the rows and channels (features) as the \n",
    "columns. Use the random restarts function you wrote above, to \n",
    "perform clustering over the pixels of the image.\n",
    "3. [5 pts] Then recolor the pixels of each image according to their \n",
    "cluster membership. In particular, replace each pixel with the average \n",
    "R, G, B values for the cluster to which the pixel belongs (i.e. recolor \n",
    "using the cluster means). Show the recolored image using imshow, \n",
    "but convert it to format uint8 before displaying.\n",
    "4. [5 pts] Experiment with at least five different combinations of \n",
    "settings for K, iters, R. Write a brief report (report.pdf or \n",
    "report.docx) documenting your findings about these, and \n",
    "include the image results inside the document"
   ]
  },
  {
   "cell_type": "code",
   "execution_count": 80,
   "metadata": {},
   "outputs": [],
   "source": [
    "import numpy as np\n",
    "from PIL import Image\n",
    "#import matplotlib.pyplot as plt"
   ]
  },
  {
   "cell_type": "code",
   "execution_count": 104,
   "metadata": {},
   "outputs": [],
   "source": [
    "panda = Image.open('panda.jpg')\n",
    "cardinal = Image.open('cardinal.jpg') \n"
   ]
  },
  {
   "cell_type": "code",
   "execution_count": 105,
   "metadata": {},
   "outputs": [],
   "source": [
    "panda = panda.resize([100,100])\n",
    "cardinal = cardinal.resize([100,100])"
   ]
  },
  {
   "cell_type": "code",
   "execution_count": 107,
   "metadata": {},
   "outputs": [],
   "source": [
    "cardinal.show()\n"
   ]
  },
  {
   "cell_type": "code",
   "execution_count": 83,
   "metadata": {},
   "outputs": [],
   "source": [
    "panda = np.reshape(panda,[10000,3])\n",
    "cardinal = np.reshape(cardinal,[10000,3])\n"
   ]
  },
  {
   "cell_type": "code",
   "execution_count": 84,
   "metadata": {},
   "outputs": [],
   "source": [
    "def pdist2(ref,samples):\n",
    "    \n",
    "    K,D1 = ref.shape\n",
    "    N,D2 = samples.shape\n",
    "    assert D1==D2, 'Dimensions of reference and samples dont match' \n",
    "    dist = np.zeros([K,N])\n",
    "    for i in range(K):\n",
    "        for j in range(N):\n",
    "            dist[i,j] = np.linalg.norm(ref[i,:] - samples[j,:])\n",
    "    \n",
    "    return dist\n",
    "def k_means(A, K, iters):\n",
    "\n",
    "    N,D = A.shape\n",
    "    A_max = np.max(A,axis=0)\n",
    "    A_min = np.min(A,axis=0)\n",
    "    cluster_center = A_min + (A_max-A_min)*np.random.rand(K,D)\n",
    "    distances = np.zeros([K,N])\n",
    "    for i in range(iters):\n",
    "        distances = pdist2(cluster_center,A)\n",
    "        cluster_id = np.argmin(distances,axis=0)\n",
    "        classifying_matrix = np.zeros([N,D,K])\n",
    "        id_count = np.zeros(K,dtype=int)\n",
    "        for i,id in enumerate(cluster_id):\n",
    "            #print(i,id)\n",
    "            id_count[id] += 1\n",
    "            #print(id_count[id])\n",
    "            classifying_matrix[id_count[id]-1,:,id] = A[i,:]\n",
    "        for i in range(K):\n",
    "            cluster_center[i,:] = np.sum(classifying_matrix[:,:,i],axis=0)/id_count[i]\n",
    "    \n",
    "    ssd = np.sum((pdist2(cluster_center,A))**2)\n",
    "     \n",
    "    return cluster_id,cluster_center,ssd\n",
    "def wrapper_kmeans(A,K,iters,R):\n",
    "    ssd_old = np.inf\n",
    "    for i in range(R):\n",
    "        cluster_id,cluster_center,ssd_new = k_means(A,K,iters)\n",
    "        if (ssd_new < ssd_old):\n",
    "            cluster_id_best = cluster_id\n",
    "            cluster_center_best = cluster_center\n",
    "            ssd_old = ssd_new\n",
    "    \n",
    "    return cluster_id_best,cluster_center_best,ssd_old"
   ]
  },
  {
   "cell_type": "code",
   "execution_count": 85,
   "metadata": {},
   "outputs": [
    {
     "name": "stderr",
     "output_type": "stream",
     "text": [
      "C:\\Users\\udupa\\AppData\\Local\\Temp\\ipykernel_16424\\3102181842.py:30: RuntimeWarning: invalid value encountered in divide\n",
      "  cluster_center[i,:] = np.sum(classifying_matrix[:,:,i],axis=0)/id_count[i]\n"
     ]
    }
   ],
   "source": [
    "cluster_id_panda,cluster_center_panda,ssd_panda = wrapper_kmeans(panda,2,100,4)"
   ]
  },
  {
   "cell_type": "code",
   "execution_count": 86,
   "metadata": {},
   "outputs": [
    {
     "data": {
      "image/png": "[encoded data removed]",
      "text/plain": [
       "<PIL.Image.Image image mode=RGB size=100x100>"
      ]
     },
     "execution_count": 86,
     "metadata": {},
     "output_type": "execute_result"
    }
   ],
   "source": [
    "new_panda = panda.copy()\n",
    "for i in range(10000):\n",
    "    if(cluster_id_panda[i] == 0):\n",
    "        new_panda[i,:] = cluster_center_panda[0,:]\n",
    "    if(cluster_id_panda[i] == 1):\n",
    "        new_panda[i,:] = cluster_center_panda[1,:]\n",
    "new_panda = np.reshape(new_panda,[100,100,3])\n",
    "Image.fromarray(new_panda)"
   ]
  },
  {
   "cell_type": "code",
   "execution_count": 87,
   "metadata": {},
   "outputs": [
    {
     "name": "stderr",
     "output_type": "stream",
     "text": [
      "C:\\Users\\udupa\\AppData\\Local\\Temp\\ipykernel_16424\\3102181842.py:30: RuntimeWarning: invalid value encountered in divide\n",
      "  cluster_center[i,:] = np.sum(classifying_matrix[:,:,i],axis=0)/id_count[i]\n"
     ]
    }
   ],
   "source": [
    "cluster_id_panda,cluster_center_panda,ssd_panda = wrapper_kmeans(panda,3,100,4)"
   ]
  },
  {
   "cell_type": "code",
   "execution_count": 88,
   "metadata": {},
   "outputs": [
    {
     "data": {
      "image/png": "[encoded data removed]",
      "text/plain": [
       "<PIL.Image.Image image mode=RGB size=100x100>"
      ]
     },
     "execution_count": 88,
     "metadata": {},
     "output_type": "execute_result"
    }
   ],
   "source": [
    "new_panda = panda.copy()\n",
    "for i in range(10000):\n",
    "    if(cluster_id_panda[i] == 0):\n",
    "        new_panda[i,:] = cluster_center_panda[0,:]\n",
    "    if(cluster_id_panda[i] == 1):\n",
    "        new_panda[i,:] = cluster_center_panda[1,:]\n",
    "    if(cluster_id_panda[i] == 2):\n",
    "        new_panda[i,:] = cluster_center_panda[2,:]\n",
    "new_panda = np.reshape(new_panda,[100,100,3])\n",
    "Image.fromarray(new_panda)"
   ]
  },
  {
   "cell_type": "code",
   "execution_count": 89,
   "metadata": {},
   "outputs": [
    {
     "name": "stderr",
     "output_type": "stream",
     "text": [
      "C:\\Users\\udupa\\AppData\\Local\\Temp\\ipykernel_16424\\3102181842.py:30: RuntimeWarning: invalid value encountered in divide\n",
      "  cluster_center[i,:] = np.sum(classifying_matrix[:,:,i],axis=0)/id_count[i]\n"
     ]
    }
   ],
   "source": [
    "cluster_id_panda,cluster_center_panda,ssd_panda = wrapper_kmeans(panda,4,100,4)"
   ]
  },
  {
   "cell_type": "code",
   "execution_count": 90,
   "metadata": {},
   "outputs": [
    {
     "data": {
      "image/png": "[encoded data removed]",
      "text/plain": [
       "<PIL.Image.Image image mode=RGB size=100x100>"
      ]
     },
     "execution_count": 90,
     "metadata": {},
     "output_type": "execute_result"
    }
   ],
   "source": [
    "new_panda = panda.copy()\n",
    "for i in range(10000):\n",
    "    if(cluster_id_panda[i] == 0):\n",
    "        new_panda[i,:] = cluster_center_panda[0,:]\n",
    "    if(cluster_id_panda[i] == 1):\n",
    "        new_panda[i,:] = cluster_center_panda[1,:]\n",
    "    if(cluster_id_panda[i] == 2):\n",
    "        new_panda[i,:] = cluster_center_panda[2,:]\n",
    "    if(cluster_id_panda[i] == 3):\n",
    "        new_panda[i,:] = cluster_center_panda[3,:]\n",
    "new_panda = np.reshape(new_panda,[100,100,3])\n",
    "Image.fromarray(new_panda)"
   ]
  },
  {
   "cell_type": "code",
   "execution_count": 91,
   "metadata": {},
   "outputs": [
    {
     "name": "stderr",
     "output_type": "stream",
     "text": [
      "C:\\Users\\udupa\\AppData\\Local\\Temp\\ipykernel_16424\\3102181842.py:30: RuntimeWarning: invalid value encountered in divide\n",
      "  cluster_center[i,:] = np.sum(classifying_matrix[:,:,i],axis=0)/id_count[i]\n"
     ]
    }
   ],
   "source": [
    "cluster_id_panda,cluster_center_panda,ssd_panda = wrapper_kmeans(panda,5,100,4)"
   ]
  },
  {
   "cell_type": "code",
   "execution_count": 92,
   "metadata": {},
   "outputs": [
    {
     "data": {
      "image/png": "[encoded data removed]",
      "text/plain": [
       "<PIL.Image.Image image mode=RGB size=100x100>"
      ]
     },
     "execution_count": 92,
     "metadata": {},
     "output_type": "execute_result"
    }
   ],
   "source": [
    "new_panda = panda.copy()\n",
    "for i in range(10000):\n",
    "    if(cluster_id_panda[i] == 0):\n",
    "        new_panda[i,:] = cluster_center_panda[0,:]\n",
    "    if(cluster_id_panda[i] == 1):\n",
    "        new_panda[i,:] = cluster_center_panda[1,:]\n",
    "    if(cluster_id_panda[i] == 2):\n",
    "        new_panda[i,:] = cluster_center_panda[2,:]\n",
    "    if(cluster_id_panda[i] == 3):\n",
    "        new_panda[i,:] = cluster_center_panda[3,:]\n",
    "    if(cluster_id_panda[i] == 4):\n",
    "        new_panda[i,:] = cluster_center_panda[4,:]\n",
    "new_panda = np.reshape(new_panda,[100,100,3])\n",
    "Image.fromarray(new_panda)"
   ]
  },
  {
   "cell_type": "code",
   "execution_count": 93,
   "metadata": {},
   "outputs": [],
   "source": [
    "cluster_id_cardinal,cluster_center_cardinal,ssd_cardinal = wrapper_kmeans(cardinal,2,100,4)"
   ]
  },
  {
   "cell_type": "code",
   "execution_count": 94,
   "metadata": {},
   "outputs": [
    {
     "data": {
      "image/png": "[encoded data removed]",
      "text/plain": [
       "<PIL.Image.Image image mode=RGB size=100x100>"
      ]
     },
     "execution_count": 94,
     "metadata": {},
     "output_type": "execute_result"
    }
   ],
   "source": [
    "new_cardinal = cardinal.copy()\n",
    "for i in range(10000):\n",
    "    if(cluster_id_cardinal[i] == 0):\n",
    "        new_cardinal[i,:] = cluster_center_cardinal[0,:]\n",
    "    if(cluster_id_cardinal[i] == 1):\n",
    "        new_cardinal[i,:] = cluster_center_cardinal[1,:]\n",
    "new_cardinal = np.reshape(new_cardinal,[100,100,3])\n",
    "Image.fromarray(new_cardinal)"
   ]
  },
  {
   "cell_type": "code",
   "execution_count": 95,
   "metadata": {},
   "outputs": [
    {
     "name": "stderr",
     "output_type": "stream",
     "text": [
      "C:\\Users\\udupa\\AppData\\Local\\Temp\\ipykernel_16424\\3102181842.py:30: RuntimeWarning: invalid value encountered in divide\n",
      "  cluster_center[i,:] = np.sum(classifying_matrix[:,:,i],axis=0)/id_count[i]\n"
     ]
    }
   ],
   "source": [
    "cluster_id_cardinal,cluster_center_cardinal,ssd_cardinal = wrapper_kmeans(cardinal,3,100,4)"
   ]
  },
  {
   "cell_type": "code",
   "execution_count": 96,
   "metadata": {},
   "outputs": [
    {
     "data": {
      "image/png": "[encoded data removed]",
      "text/plain": [
       "<PIL.Image.Image image mode=RGB size=100x100>"
      ]
     },
     "execution_count": 96,
     "metadata": {},
     "output_type": "execute_result"
    }
   ],
   "source": [
    "new_cardinal = cardinal.copy()\n",
    "for i in range(10000):\n",
    "    if(cluster_id_cardinal[i] == 0):\n",
    "        new_cardinal[i,:] = cluster_center_cardinal[0,:]\n",
    "    if(cluster_id_cardinal[i] == 1):\n",
    "        new_cardinal[i,:] = cluster_center_cardinal[1,:]\n",
    "    if(cluster_id_cardinal[i] == 2):\n",
    "        new_cardinal[i,:] = cluster_center_cardinal[2,:]\n",
    "new_cardinal = np.reshape(new_cardinal,[100,100,3])\n",
    "Image.fromarray(new_cardinal)"
   ]
  },
  {
   "cell_type": "code",
   "execution_count": 97,
   "metadata": {},
   "outputs": [
    {
     "name": "stderr",
     "output_type": "stream",
     "text": [
      "C:\\Users\\udupa\\AppData\\Local\\Temp\\ipykernel_16424\\3102181842.py:30: RuntimeWarning: invalid value encountered in divide\n",
      "  cluster_center[i,:] = np.sum(classifying_matrix[:,:,i],axis=0)/id_count[i]\n"
     ]
    }
   ],
   "source": [
    "cluster_id_cardinal,cluster_center_cardinal,ssd_cardinal = wrapper_kmeans(cardinal,4,100,4)"
   ]
  },
  {
   "cell_type": "code",
   "execution_count": 98,
   "metadata": {},
   "outputs": [
    {
     "data": {
      "image/png": "[encoded data removed]",
      "text/plain": [
       "<PIL.Image.Image image mode=RGB size=100x100>"
      ]
     },
     "execution_count": 98,
     "metadata": {},
     "output_type": "execute_result"
    }
   ],
   "source": [
    "new_cardinal = cardinal.copy()\n",
    "for i in range(10000):\n",
    "    if(cluster_id_cardinal[i] == 0):\n",
    "        new_cardinal[i,:] = cluster_center_cardinal[0,:]\n",
    "    if(cluster_id_cardinal[i] == 1):\n",
    "        new_cardinal[i,:] = cluster_center_cardinal[1,:]\n",
    "    if(cluster_id_cardinal[i] == 2):\n",
    "        new_cardinal[i,:] = cluster_center_cardinal[2,:]\n",
    "    if(cluster_id_cardinal[i] == 3):\n",
    "        new_cardinal[i,:] = cluster_center_cardinal[3,:]\n",
    "new_cardinal = np.reshape(new_cardinal,[100,100,3])\n",
    "Image.fromarray(new_cardinal)"
   ]
  },
  {
   "cell_type": "code",
   "execution_count": 99,
   "metadata": {},
   "outputs": [
    {
     "name": "stderr",
     "output_type": "stream",
     "text": [
      "C:\\Users\\udupa\\AppData\\Local\\Temp\\ipykernel_16424\\3102181842.py:30: RuntimeWarning: invalid value encountered in divide\n",
      "  cluster_center[i,:] = np.sum(classifying_matrix[:,:,i],axis=0)/id_count[i]\n"
     ]
    }
   ],
   "source": [
    "cluster_id_cardinal,cluster_center_cardinal,ssd_cardinal = wrapper_kmeans(cardinal,5,100,4)"
   ]
  },
  {
   "cell_type": "code",
   "execution_count": 100,
   "metadata": {},
   "outputs": [
    {
     "data": {
      "image/png": "[encoded data removed]",
      "text/plain": [
       "<PIL.Image.Image image mode=RGB size=100x100>"
      ]
     },
     "execution_count": 100,
     "metadata": {},
     "output_type": "execute_result"
    }
   ],
   "source": [
    "new_cardinal = cardinal.copy()\n",
    "for i in range(10000):\n",
    "    if(cluster_id_cardinal[i] == 0):\n",
    "        new_cardinal[i,:] = cluster_center_cardinal[0,:]\n",
    "    if(cluster_id_cardinal[i] == 1):\n",
    "        new_cardinal[i,:] = cluster_center_cardinal[1,:]\n",
    "    if(cluster_id_cardinal[i] == 2):\n",
    "        new_cardinal[i,:] = cluster_center_cardinal[2,:]\n",
    "    if(cluster_id_cardinal[i] == 3):\n",
    "        new_cardinal[i,:] = cluster_center_cardinal[3,:]\n",
    "    if(cluster_id_cardinal[i] == 4):\n",
    "        new_cardinal[i,:] = cluster_center_cardinal[4,:]\n",
    "new_cardinal = np.reshape(new_cardinal,[100,100,3])\n",
    "Image.fromarray(new_cardinal)"
   ]
  }
 ],
 "metadata": {
  "kernelspec": {
   "display_name": "Python 3.10.6 64-bit",
   "language": "python",
   "name": "python3"
  },
  "language_info": {
   "codemirror_mode": {
    "name": "ipython",
    "version": 3
   },
   "file_extension": ".py",
   "mimetype": "text/x-python",
   "name": "python",
   "nbconvert_exporter": "python",
   "pygments_lexer": "ipython3",
   "version": "3.10.6"
  },
  "orig_nbformat": 4,
  "vscode": {
   "interpreter": {
    "hash": "d2d74e9454ee5caf31952733146ee00f8154502441cd797a56b6df69d60e3d36"
   }
  }
 },
 "nbformat": 4,
 "nbformat_minor": 2
}
