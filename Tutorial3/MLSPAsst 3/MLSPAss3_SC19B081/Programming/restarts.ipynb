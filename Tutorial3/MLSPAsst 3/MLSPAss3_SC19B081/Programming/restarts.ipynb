{
 "cells": [
  {
   "cell_type": "markdown",
   "metadata": {},
   "source": [
    "# SC19B081\n",
    "\n",
    "\n",
    "K-means is sensitive to the random choice of initial clusters. To improve \n",
    "your odds of getting a good clustering, implement a wrapper function \n",
    "restarts.ipynb to do R random restarts and return the clustering with \n",
    "the lowest SSD error.\n",
    "\n",
    "Inputs: same as for my_kmeans.ipynb plus\n",
    "- a scalar R denoting how many random restarts to perform.\n",
    "\n",
    "Outputs: same as for my_kmeans.ipynb, but\n",
    "- ssd is the lowest SSD across all random restarts."
   ]
  },
  {
   "cell_type": "code",
   "execution_count": 1,
   "metadata": {},
   "outputs": [],
   "source": [
    "import numpy as np\n",
    "def pdist2(ref,samples):\n",
    "    \n",
    "    \"\"\"\n",
    "    Inputs:\n",
    "    - ref:  reference matrix of size KxD\n",
    "    - samples: sample matrix of size NxD\n",
    "    \n",
    "    Returns:\n",
    "    - dist: Euclidean distance between the K ref points and N samples,\n",
    "            size K,N\n",
    "    \n",
    "    \"\"\"\n",
    "    K,D1 = ref.shape\n",
    "    N,D2 = samples.shape\n",
    "    assert D1==D2, 'Dimensions of reference and samples dont match' \n",
    "    dist = np.zeros([K,N])\n",
    "    for i in range(K):\n",
    "        for j in range(N):\n",
    "            dist[i,j] = np.linalg.norm(ref[i,:] - samples[j,:])\n",
    "    \n",
    "    return dist\n",
    "def k_means(A, K, iters):\n",
    "    \"\"\"\n",
    "    Inputs:\n",
    "    - A: matrix A of size NxD, where N is number of samples and D is the dimensionality of Feature representation\n",
    "    - K: number of clusters\n",
    "    - iters: number of iterations\n",
    "    \n",
    "    Returns:\n",
    "    - cluster_id: Nx1 vector, with class labels in it, class labels : 1 to K\n",
    "    - cluster_center: KxD matrix containing center of each cluster\n",
    "    - ssd: sum of squared distances  \n",
    "     \n",
    "    \"\"\"\n",
    "    N,D = A.shape\n",
    "    A_max = np.max(A,axis=0)\n",
    "    A_min = np.min(A,axis=0)\n",
    "    cluster_center = A_min + (A_max-A_min)*np.random.rand(K,D)\n",
    "    distances = np.zeros([K,N])\n",
    "    for i in range(iters):\n",
    "        distances = pdist2(cluster_center,A)\n",
    "        cluster_id = np.argmin(distances,axis=0)\n",
    "        classifying_matrix = np.zeros([N,D,K])\n",
    "        id_count = np.zeros(K,dtype=int)\n",
    "        for i,id in enumerate(cluster_id):\n",
    "            id_count[id] += 1\n",
    "            classifying_matrix[id_count[id]-1,:,id] = A[i,:]\n",
    "        for i in range(K):\n",
    "            cluster_center[i,:] = np.sum(classifying_matrix[:,:,i],axis=0)/id_count[i]\n",
    "    \n",
    "    ssd = np.sum((pdist2(cluster_center,A))**2)\n",
    "     \n",
    "    return cluster_id,cluster_center,ssd"
   ]
  },
  {
   "cell_type": "code",
   "execution_count": 2,
   "metadata": {},
   "outputs": [],
   "source": [
    "def wrapper_kmeans(A,K,iters,R):\n",
    "    ssd_old = np.inf\n",
    "    for i in range(R):\n",
    "        cluster_id,cluster_center,ssd_new = k_means(A,K,iters)\n",
    "        if (ssd_new < ssd_old):\n",
    "            cluster_id_best = cluster_id\n",
    "            cluster_center_best = cluster_center\n",
    "            ssd_old = ssd_new\n",
    "    \n",
    "    return cluster_id_best,cluster_center_best,ssd_old"
   ]
  }
 ],
 "metadata": {
  "kernelspec": {
   "display_name": "Python 3.10.6 64-bit",
   "language": "python",
   "name": "python3"
  },
  "language_info": {
   "codemirror_mode": {
    "name": "ipython",
    "version": 3
   },
   "file_extension": ".py",
   "mimetype": "text/x-python",
   "name": "python",
   "nbconvert_exporter": "python",
   "pygments_lexer": "ipython3",
   "version": "3.10.6"
  },
  "orig_nbformat": 4,
  "vscode": {
   "interpreter": {
    "hash": "d2d74e9454ee5caf31952733146ee00f8154502441cd797a56b6df69d60e3d36"
   }
  }
 },
 "nbformat": 4,
 "nbformat_minor": 2
}
