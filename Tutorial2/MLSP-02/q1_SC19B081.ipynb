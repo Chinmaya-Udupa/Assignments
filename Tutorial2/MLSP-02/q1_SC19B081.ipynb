{
 "cells": [
  {
   "cell_type": "markdown",
   "id": "f65a3940",
   "metadata": {},
   "source": [
    "# Question 1 SC19B081"
   ]
  },
  {
   "cell_type": "markdown",
   "id": "0f0955c7",
   "metadata": {},
   "source": [
    "## Dataset Description\n",
    "\n",
    "Optical Recognition of Handwritten Digits Dataset from the UCI repository. The original dataset consists of normalized bitmaps of handwritten digits (0-9). 32x32 bitmaps are divided into non-overlapping blocks of 4x4 and the number of ON pixels are counted in each block. This generates an input matrix of 8x8 where each element is an integer in the range 0-16.  This\n",
    "reduces dimensionality and gives invariance to small distortions.\n",
    "\n",
    "The given dataset is a modified version of the above dataset, consisting of the data corresponding to the handwritten digits 5 & 6 extracted from the original dataset.\n",
    "- $\\textbf{Training data}$: 'P1\\_data\\_train.csv' consisting of 777 instances(rows) of 64 attributes(cols) corresponding to the handwritten digit value(5 or 6) given in 'P1\\_labels\\_train.csv'.\n",
    "- $\\textbf{Test data}$: 'P1\\_data\\_test.csv' consisting of 333 instances(rows) of 64 attributes(cols) corresponding to the handwritten digit value(5 or 6) given in 'P1\\_labels\\_test.csv'.\n",
    "\n",
    "Design a Bayes Classifier for the following data."
   ]
  },
  {
   "cell_type": "markdown",
   "id": "faa78c0c",
   "metadata": {},
   "source": [
    "## Importing Libraries"
   ]
  },
  {
   "cell_type": "code",
   "execution_count": 281,
   "id": "dafc3e39",
   "metadata": {},
   "outputs": [],
   "source": [
    "import pandas as pd\n",
    "import numpy as np\n",
    "from matplotlib import pyplot as plt"
   ]
  },
  {
   "cell_type": "markdown",
   "id": "3417966e",
   "metadata": {},
   "source": [
    "##  Training"
   ]
  },
  {
   "cell_type": "markdown",
   "id": "419d74bc",
   "metadata": {},
   "source": [
    "### Importing data \n",
    "\n",
    "There are 2 csv files for training, one of them is a feature vector and the other is class label."
   ]
  },
  {
   "cell_type": "code",
   "execution_count": 282,
   "id": "6f8ae457",
   "metadata": {},
   "outputs": [],
   "source": [
    "#first we start by labeling each column \n",
    "input_names = np.linspace(1,64,64,dtype='str')\n",
    "\n",
    "for i in range(64):\n",
    "    input_names[i] = str(input_names[i])\n",
    "    \n",
    "X_train = pd.read_csv('P1_data_train.csv', names=input_names)\n",
    "y_train = pd.read_csv('P1_labels_train.csv', names= ['class'])\n",
    "\n",
    "#print(X_train[:5])\n",
    "#print(y_train[:5])"
   ]
  },
  {
   "cell_type": "markdown",
   "id": "e85462e8",
   "metadata": {},
   "source": [
    "### Grouping feature vectors \n",
    "\n",
    "After importing, we would like to group all feature vectors that belong to 5 and those that belong to 6."
   ]
  },
  {
   "cell_type": "code",
   "execution_count": null,
   "id": "ce041cff",
   "metadata": {},
   "outputs": [],
   "source": [
    "X_train_5_p = X_train.loc[y_train['class']==5] #p denotes pandas df\n",
    "X_train_6_p = X_train.loc[y_train['class']==6]\n",
    "\n",
    "\n",
    "'''\n",
    "verifying if they sum up to 777\n",
    "print(X_train_5.size/64)\n",
    "print(X_train_6.size/64)\n",
    "it does add up to 777\n",
    "'''\n",
    "#X_train_5.columns\n",
    "#from matplotlib import pyplot\n",
    "#X_train_5.plot(y=60,kind='hist')\n"
   ]
  },
  {
   "cell_type": "markdown",
   "id": "41c8b15e",
   "metadata": {},
   "source": [
    "### Estimating mean vector\n",
    "\n",
    "In this we will be calculating $\\mu_5$ and $\\mu_6$ vectors"
   ]
  },
  {
   "cell_type": "code",
   "execution_count": 287,
   "id": "140c6a00",
   "metadata": {},
   "outputs": [
    {
     "name": "stdout",
     "output_type": "stream",
     "text": [
      "1.0      5.000000\n",
      "2.0      5.083333\n",
      "3.0      8.515152\n",
      "4.0     10.340909\n",
      "5.0     10.772727\n",
      "          ...    \n",
      "60.0    10.563131\n",
      "61.0     9.065657\n",
      "62.0     6.739899\n",
      "63.0     5.068182\n",
      "64.0     5.244949\n",
      "Length: 64, dtype: float64 \n",
      "\n",
      "\n",
      " 1.0      5.196850\n",
      "2.0      5.089239\n",
      "3.0      5.952756\n",
      "4.0     10.070866\n",
      "5.0      8.569554\n",
      "          ...    \n",
      "60.0     9.440945\n",
      "61.0    11.301837\n",
      "62.0     9.955381\n",
      "63.0     6.664042\n",
      "64.0     5.291339\n",
      "Length: 64, dtype: float64\n"
     ]
    }
   ],
   "source": [
    "# maximum likelihood of mean is just sample mean \n",
    "# for calculating mean I'll be using in-built function as it is just summation over each column \n",
    "\n",
    "mu_5_p = X_train_5_p.mean()\n",
    "mu_6_p = X_train_6_p.mean()\n",
    "\n",
    "print(mu_5_p,'\\n\\n\\n',mu_6_p)\n"
   ]
  },
  {
   "cell_type": "markdown",
   "id": "ccdc1924",
   "metadata": {},
   "source": [
    "### Estimating Co-variance Matrix\n",
    "\n",
    "In this we will be calculating $\\Sigma_5$ and $\\Sigma_6$ matrices"
   ]
  },
  {
   "cell_type": "code",
   "execution_count": 289,
   "id": "663b5230",
   "metadata": {},
   "outputs": [
    {
     "name": "stdout",
     "output_type": "stream",
     "text": [
      "Sigma_5 = array([[38.97721519, 21.53924051, 23.65316456, ..., 24.77468354,\n",
      "        24.91392405, 25.78481013],\n",
      "       [21.53924051, 38.60316456, 23.07088608, ..., 27.92299578,\n",
      "        23.6221519 , 25.58966245],\n",
      "       [23.65316456, 23.07088608, 44.78711162, ..., 24.03306483,\n",
      "        19.3976985 , 26.96969697],\n",
      "       ...,\n",
      "       [24.77468354, 27.92299578, 24.03306483, ..., 45.74230277,\n",
      "        26.31904488, 24.55501215],\n",
      "       [24.91392405, 23.6221519 , 19.3976985 , ..., 26.31904488,\n",
      "        39.38521289, 25.01616801],\n",
      "       [25.78481013, 25.58966245, 26.96969697, ..., 24.55501215,\n",
      "        25.01616801, 41.18794911]])\n",
      "\n",
      "\n",
      " Sigma_6 = array([[43.03746374, 23.49028181, 25.69353502, ..., 20.91406962,\n",
      "        24.07683382, 28.56881475],\n",
      "       [23.49028181, 40.40254179, 26.04896395, ..., 25.18293963,\n",
      "        26.83795414, 27.82393286],\n",
      "       [25.69353502, 26.04896395, 42.90302528, ..., 22.43736013,\n",
      "        20.97092831, 29.23485288],\n",
      "       ...,\n",
      "       [20.91406962, 25.18293963, 22.43736013, ..., 40.9690565 ,\n",
      "        26.76654925, 22.9340862 ],\n",
      "       [24.07683382, 26.83795414, 20.97092831, ..., 26.76654925,\n",
      "        46.10788783, 26.60076668],\n",
      "       [28.56881475, 27.82393286, 29.23485288, ..., 22.9340862 ,\n",
      "        26.60076668, 42.15437215]])\n"
     ]
    }
   ],
   "source": [
    "# maximum likelihood of covariance is just sample covariance (proved in class, slides 70-76)\n",
    "# for calculating covariance I'll be using in-built function as it is just summation of product of normalised data points\n",
    "\n",
    "Sigma_5_p = X_train_5_p.cov()\n",
    "Sigma_6_p = X_train_6_p.cov()\n",
    "\n",
    "# easier to work with numpy datatype\n",
    "X_train_5 = np.array(X_train_5_p)\n",
    "X_train_6 = np.array(X_train_6_p)\n",
    "mu_5 = np.array(mu_5_p)\n",
    "mu_6 = np.array(mu_6_p)\n",
    "Sigma_5 = np.array(Sigma_5_p)\n",
    "Sigma_6 = np.array(Sigma_6_p)\n",
    "\n",
    "print(f'{Sigma_5 = }\\n\\n\\n {Sigma_6 = }')\n"
   ]
  },
  {
   "cell_type": "markdown",
   "id": "e6b23a53",
   "metadata": {},
   "source": [
    "## Testing"
   ]
  },
  {
   "cell_type": "markdown",
   "id": "3cb74967",
   "metadata": {},
   "source": [
    "### Importing data \n",
    "\n",
    "There are 2 csv files for testing, one of them is a feature vector and the other is class label."
   ]
  },
  {
   "cell_type": "code",
   "execution_count": 290,
   "id": "ee8c3080",
   "metadata": {},
   "outputs": [],
   "source": [
    "X_test_p = pd.read_csv('P1_data_test.csv', names=input_names)\n",
    "y_test_p = pd.read_csv('P1_labels_test.csv', names= ['class'])\n",
    "\n",
    "X_test = np.array(X_test_p)\n",
    "y_test = np.array(y_test_p)"
   ]
  },
  {
   "cell_type": "markdown",
   "id": "8e578d33",
   "metadata": {},
   "source": [
    "### Creating a density function\n",
    "\n",
    "To design a Bayes classifier we need the density/distribution of the features.\n",
    "\n",
    "Given data and assuming Gaussian distribution, we have estimated the maximum likelihood parameters of Gaussian.<br>\n",
    "[Here we are defining Mahalanobis distance seperately for reasons which will be discussed later.]"
   ]
  },
  {
   "cell_type": "code",
   "execution_count": 291,
   "id": "3f70a04f",
   "metadata": {},
   "outputs": [],
   "source": [
    "def Gaussian(x,mu,Sigma): #3rd argument should be SD and not var if 1Dimensional\n",
    "     if (isinstance(mu,int) or mu.size ==1): #univariate gaussian\n",
    "          return (1/(Sigma*np.sqrt(2*np.pi)))*(np.exp(-1*(x - mu)**2 / (2*Sigma**2)))\n",
    "     n = mu.size\n",
    "\n",
    "     Sig_det = np.linalg.det(Sigma) \n",
    "     C = ((2*np.pi)**n)\n",
    "     Mlbns_dist = Mahalanobis_distance(x,mu,Sigma)\n",
    "     y = (np.exp(-1*Mlbns_dist/2)/\n",
    "          np.sqrt(C*Sig_det))\n",
    "\n",
    "     return y\n",
    "\n",
    "def Mahalanobis_distance(x,mu,Sigma):\n",
    "     n = mu.size\n",
    "     mu = np.array(mu)\n",
    "     Sigma = np.array(Sigma)\n",
    "     x_hat = x-mu\n",
    "     try:\n",
    "          Mlbns_dist = x_hat@Sigma@x_hat.T #Mahalanobis distance squared\n",
    "     except:\n",
    "          print(\"dimensions dont match\")\n",
    "     else:\n",
    "          Mlbns_dist = x_hat.T@Sigma@x_hat #Mahalanobis distance squared\n",
    "     return Mlbns_dist\n"
   ]
  },
  {
   "cell_type": "markdown",
   "id": "b983e8e6",
   "metadata": {},
   "source": [
    "### Verifying the density estimation\n",
    "\n",
    "The reason why we are doing this is because Sigma\\_5 and Sigma\\_6 have a very high variance and intuitively this is not desirable for good density estimation.\n",
    "We will verify this in 2 ways.\n",
    "- First we'll see the probability of the same data with which we estimated our parameters(ideally should be at least in magnitude of 10\\^-3 for the given number of samples)\n",
    "- After which we will plot the histograms and density estimated for randomly chosen features and visually verify if the estimation seems right"
   ]
  },
  {
   "cell_type": "code",
   "execution_count": 292,
   "id": "07d556d2",
   "metadata": {},
   "outputs": [
    {
     "name": "stdout",
     "output_type": "stream",
     "text": [
      "probability that features(X_train_5[96,:]) belongs to class label 5 =  0.0\n",
      "probability that features(X_train_6[79,:]) belongs to class label 6 =  0.0\n",
      "probability that features(X_train_5[226,:]) belongs to class label 5 =  0.0\n",
      "probability that features(X_train_6[348,:]) belongs to class label 6 =  0.0\n",
      "probability that features(X_train_5[126,:]) belongs to class label 5 =  0.0\n",
      "probability that features(X_train_6[147,:]) belongs to class label 6 =  0.0\n",
      "probability that features(X_train_5[312,:]) belongs to class label 5 =  0.0\n",
      "probability that features(X_train_6[212,:]) belongs to class label 6 =  0.0\n"
     ]
    }
   ],
   "source": [
    "rand_sample_5 = np.random.randint(0,(X_train_5.size)/64,4)\n",
    "rand_sample_6 = np.random.randint(0,(X_train_6.size)/64,4)\n",
    "\n",
    "for i in range(4):\n",
    "    print(f'probability that features(X_train_5[{rand_sample_5[i]},:]) belongs to class label 5 =  {Gaussian(X_train_5[rand_sample_5[i],:],mu_5,Sigma_5)}')\n",
    "    print(f'probability that features(X_train_6[{rand_sample_6[i]},:]) belongs to class label 6 =  {Gaussian(X_train_6[rand_sample_6[i],:],mu_6,Sigma_6)}')\n"
   ]
  },
  {
   "cell_type": "code",
   "execution_count": 293,
   "id": "ebc8ecee",
   "metadata": {},
   "outputs": [
    {
     "data": {
      "image/png": "[encoded data removed]",
      "text/plain": [
       "<Figure size 640x480 with 4 Axes>"
      ]
     },
     "metadata": {},
     "output_type": "display_data"
    }
   ],
   "source": [
    "random_features = np.random.randint(0,64,4)\n",
    "nbins = 5 \n",
    "fig,ax = plt.subplots(2,2)\n",
    "\n",
    "\n",
    "### Data visualization is only done for class 5, class 6 distribution would also be similar\n",
    "\n",
    "i = random_features[0]\n",
    "X = X_train_5[:,i]\n",
    "amp = len(X)*max(X)/nbins\n",
    "ax[0][0].hist(X,nbins,label='data')\n",
    "X_lin = np.linspace(0,16,X.size)\n",
    "y = amp*Gaussian(X_lin,mu_5[i],np.sqrt(Sigma_5[i,i]))\n",
    "ax[0][0].plot(X_lin,y,label='estimated')\n",
    "\n",
    "\n",
    "i = random_features[1]\n",
    "X = X_train_5[:,i]\n",
    "amp = len(X)*max(X)/nbins\n",
    "ax[0][1].hist(X,nbins,label='data')\n",
    "X_lin = np.linspace(0,16,X.size)\n",
    "y = amp*Gaussian(X_lin,mu_5[i],np.sqrt(Sigma_5[i,i]))\n",
    "ax[0][1].plot(X_lin,y,label='estimated')\n",
    "\n",
    "\n",
    "i = random_features[2]\n",
    "X = X_train_5[:,i]\n",
    "amp = len(X)*max(X)/nbins\n",
    "ax[1][0].hist(X,nbins,label='data')\n",
    "X_lin = np.linspace(0,16,X.size)\n",
    "y = amp*Gaussian(X_lin,mu_5[i],np.sqrt(Sigma_5[i,i]))\n",
    "ax[1][0].plot(X_lin,y,label='estimated')\n",
    "\n",
    "\n",
    "i = random_features[3]\n",
    "X = X_train_5[:,i]\n",
    "amp = len(X)*max(X)/nbins\n",
    "ax[1][1].hist(X,nbins,label='data')\n",
    "X_lin = np.linspace(0,16,X.size)\n",
    "y = amp*Gaussian(X_lin,mu_5[i],np.sqrt(Sigma_5[i,i]))\n",
    "ax[1][1].plot(X_lin,y,label='estimated')\n",
    "\n",
    "plt.show()"
   ]
  },
  {
   "cell_type": "markdown",
   "id": "82bcf9e5",
   "metadata": {},
   "source": [
    "### Where is the problem?\n",
    "\n",
    "Visually there seems to be no problem in the estimation, but probability of the same data with which we estimated the parameters is giving 0.<br>\n",
    "The features are not getting labelled into either of the classes (as probabilities of them belonging to either class 0).<br>\n",
    "What is the difference? why is second method of verification \"right\"?<br>\n",
    "It probably has to do with the covariance terms, that could be the only other thing increasing our Mahalanobis distance (which in-turn reduces the overall probability)"
   ]
  },
  {
   "cell_type": "code",
   "execution_count": 294,
   "id": "d6d3938d",
   "metadata": {},
   "outputs": [],
   "source": [
    "def diagonal_matrix(Matrix):\n",
    "\n",
    "    Matrix = np.array(Matrix) #normalising to a numpy array\n",
    "    nrow = np.size(Matrix,0)\n",
    "    ncol = np.size(Matrix,1)\n",
    "    \n",
    "    assert (nrow == ncol),'Input should be square matrix'\n",
    "    for i in range(nrow):\n",
    "        for j in range(ncol):\n",
    "            if(i!=j):\n",
    "                Matrix[i,j] = 0\n",
    "            else:\n",
    "                continue\n",
    "    return Matrix\n",
    "        "
   ]
  },
  {
   "cell_type": "code",
   "execution_count": 295,
   "id": "bc9840b5",
   "metadata": {},
   "outputs": [
    {
     "name": "stdout",
     "output_type": "stream",
     "text": [
      "probability that features(X_train_5[96,:]) belongs to class label 5 =  0.0\n",
      "probability that features(X_train_6[79,:]) belongs to class label 6 =  0.0\n",
      "probability that features(X_train_5[226,:]) belongs to class label 5 =  0.0\n",
      "probability that features(X_train_6[348,:]) belongs to class label 6 =  0.0\n",
      "probability that features(X_train_5[126,:]) belongs to class label 5 =  0.0\n",
      "probability that features(X_train_6[147,:]) belongs to class label 6 =  0.0\n",
      "probability that features(X_train_5[312,:]) belongs to class label 5 =  0.0\n",
      "probability that features(X_train_6[212,:]) belongs to class label 6 =  0.0\n"
     ]
    }
   ],
   "source": [
    "Sigma_5_diag = diagonal_matrix(Sigma_5)\n",
    "Sigma_6_diag = diagonal_matrix(Sigma_6)\n",
    "\n",
    "for i in range(4):\n",
    "    print(f'probability that features(X_train_5[{rand_sample_5[i]},:]) belongs to class label 5 =  {Gaussian(X_train_5[rand_sample_5[i],:],mu_5,Sigma_5_diag)}')\n",
    "    print(f'probability that features(X_train_6[{rand_sample_6[i]},:]) belongs to class label 6 =  {Gaussian(X_train_6[rand_sample_6[i],:],mu_6,Sigma_6_diag)}')\n"
   ]
  },
  {
   "cell_type": "markdown",
   "id": "b650ffb8",
   "metadata": {},
   "source": [
    "### Using Mahalanobis distance \n",
    "\n",
    "- When covariance matrix is correlated(features are dependent) Mahalanobis distance squared is around 40,000.\n",
    "- When covariance matrix is uncorrelated(features are independent) Mahalanobis distance squared is around 10,000. \n",
    "\n",
    "But in both cases the standard definition of Gaussian cannot be computed with great accuracy which is why we will use mahalanobis distance to predict data.<br>\n",
    "This works because exponential is strictly monotonic function."
   ]
  },
  {
   "cell_type": "code",
   "execution_count": 296,
   "id": "4f98db22",
   "metadata": {},
   "outputs": [
    {
     "name": "stdout",
     "output_type": "stream",
     "text": [
      "4837097.228482027\n",
      "161484.49590763974\n",
      "4626652.098903231\n",
      "160719.05576557765\n"
     ]
    }
   ],
   "source": [
    "print(Mahalanobis_distance(X_train_5[200,:],mu_5,Sigma_5))\n",
    "print(Mahalanobis_distance(X_train_5[200,:],mu_5,Sigma_5_diag))\n",
    "print(Mahalanobis_distance(X_train_5[200,:],mu_6,Sigma_6))\n",
    "print(Mahalanobis_distance(X_train_5[200,:],mu_6,Sigma_6_diag))\n"
   ]
  },
  {
   "cell_type": "markdown",
   "id": "fd8722f7",
   "metadata": {},
   "source": [
    "### Defining a Classifier\n",
    "\n",
    "In this section we are creating a bayes classifier for the assumed distributions (one for correlated covariance matrix and the other for uncorrelated covariance matrix).<br>\n",
    "Instead of finding gaussian at a point, we will use mahalanobis distance as it is a non zero estimator (unlike gaussian).<br>\n",
    "We are also assuming 0-1 Loss function as labelling 5 as 6 and vice versa are equally undesirable."
   ]
  },
  {
   "cell_type": "code",
   "execution_count": 297,
   "id": "a8c9cc6c",
   "metadata": {},
   "outputs": [],
   "source": [
    "no_of_samples = int(X_test.size/64)\n",
    "\n",
    "y_pred_corr = np.zeros([no_of_samples,1])  \n",
    "for i in range(no_of_samples):\n",
    "    q5 = Mahalanobis_distance(X_test[i,:],mu_5,Sigma_5)\n",
    "    q6 = Mahalanobis_distance(X_test[i,:],mu_6,Sigma_6)\n",
    "    if(q5<q6): #Lower the distance, higher the probability density\n",
    "        y_pred_corr[i]=5\n",
    "    else:\n",
    "        y_pred_corr[i]=6\n",
    "\n",
    "\n",
    "y_pred_uncorr = np.zeros([no_of_samples,1])  \n",
    "for i in range(no_of_samples):\n",
    "    q5 = Mahalanobis_distance(X_test[i,:],mu_5,Sigma_5_diag)\n",
    "    q6 = Mahalanobis_distance(X_test[i,:],mu_6,Sigma_6_diag)\n",
    "    if(q5<q6): #Lower the distance, higher the probability density\n",
    "        y_pred_uncorr[i]=5\n",
    "    else:\n",
    "        y_pred_uncorr[i]=6\n"
   ]
  },
  {
   "cell_type": "markdown",
   "id": "3437c75a",
   "metadata": {},
   "source": [
    "### Error metrics"
   ]
  },
  {
   "cell_type": "markdown",
   "id": "8a89c8de",
   "metadata": {},
   "source": [
    "Percent of Missclassification"
   ]
  },
  {
   "cell_type": "code",
   "execution_count": 298,
   "id": "d89c70c8",
   "metadata": {},
   "outputs": [
    {
     "name": "stdout",
     "output_type": "stream",
     "text": [
      "misclassification percent when assumed a correlated covariance matrix0.5015015015015015\n",
      "misclassification percent when assumed an uncorrelated covariance matrix0.1891891891891892\n"
     ]
    }
   ],
   "source": [
    "corr_error = np.sum(np.abs(y_pred_corr-y_test))/(y_test.size)\n",
    "uncorr_error = np.sum(np.abs(y_pred_uncorr-y_test))/(y_test.size)\n",
    "\n",
    "print(f'misclassification percent when assumed a correlated covariance matrix{corr_error}')\n",
    "print(f'misclassification percent when assumed an uncorrelated covariance matrix{uncorr_error}')\n"
   ]
  },
  {
   "cell_type": "markdown",
   "id": "78f64936",
   "metadata": {},
   "source": [
    "Confusion Matrix"
   ]
  },
  {
   "cell_type": "code",
   "execution_count": 299,
   "id": "0236fe34",
   "metadata": {},
   "outputs": [],
   "source": [
    "def Confusion_Matrix(pred,test,label_a,label_b):\n",
    "    pred = np.array(pred)\n",
    "    test = np.array(test)\n",
    "    assert pred.size == test.size ,'Size of the predicted and test samples don\\'t match'\n",
    "    a00, a01, a10, a11 = 0, 0, 0, 0\n",
    "    for i in range(pred.size):\n",
    "        if (test[i] == label_a and pred[i] == label_a) :\n",
    "            a00 = a00 + 1\n",
    "        elif (test[i] == label_a and pred[i] == label_b):\n",
    "            a01 = a01 + 1\n",
    "        elif (test[i] == label_b and pred[i] == label_a):\n",
    "            a10 = a10 + 1\n",
    "        else:\n",
    "            a11 = a11 + 1\n",
    "    return (1/pred.size)*np.array([[a00,a01],[a10,a11]]) \n"
   ]
  },
  {
   "cell_type": "code",
   "execution_count": 300,
   "id": "4ecce203",
   "metadata": {},
   "outputs": [
    {
     "name": "stdout",
     "output_type": "stream",
     "text": [
      "Confusion matrix when assumed a correlated covariance matrix \n",
      " [[0.27627628 0.18918919]\n",
      " [0.31231231 0.22222222]]\n",
      "Confusion matrix when assumed an uncorrelated covariance matrix \n",
      " [[0.37537538 0.09009009]\n",
      " [0.0990991  0.43543544]]\n"
     ]
    }
   ],
   "source": [
    "print(f'Confusion matrix when assumed a correlated covariance matrix \\n {Confusion_Matrix(y_pred_corr,y_test,5,6)}')\n",
    "print(f'Confusion matrix when assumed an uncorrelated covariance matrix \\n {Confusion_Matrix(y_pred_uncorr,y_test,5,6)}')"
   ]
  },
  {
   "cell_type": "markdown",
   "id": "471aa1a1",
   "metadata": {},
   "source": [
    "## Results and Conclusion \n",
    "\n",
    "We have assumed a gaussian distribution and estimated mean and covariance for the given features.<br>\n",
    "We also considered 2 different cases:<br> \n",
    "1) correlated covariance matrix (features depend on each other).\n",
    "2) uncorrelated covariance matrix (features are independent of each other).\n",
    "\n",
    "As the Mahalanobis distance was too high for both classes (as sample covariance was very large), the multivariate gaussian was too small to be computed precisely.<br>\n",
    "For this reason we directly took Mahalanobis distance to define our classifier (will not change the classification as exp is a monotonic function).<br>\n",
    "\n",
    "The results were as follows:\n",
    "- A covariance matrix where the features are independent gives us a much better estimate as compared to assuming dependent features.\n",
    "- In first case, classifier missclassifies 5 as 6 about 19% and missclassifies 6 as 5 about 31% of the time. (Accuracy score = 50%)\n",
    "- In second case, classifier missclassifies 5 as 6 about 9% and missclassifies 6 as 5 about 10% of the time. (Accuracy score = 81%)\n",
    "- The best classifier(assuming gaussian) has an accuracy of 81%."
   ]
  }
 ],
 "metadata": {
  "kernelspec": {
   "display_name": "Python 3.10.6 64-bit",
   "language": "python",
   "name": "python3"
  },
  "language_info": {
   "codemirror_mode": {
    "name": "ipython",
    "version": 3
   },
   "file_extension": ".py",
   "mimetype": "text/x-python",
   "name": "python",
   "nbconvert_exporter": "python",
   "pygments_lexer": "ipython3",
   "version": "3.10.6"
  },
  "vscode": {
   "interpreter": {
    "hash": "d2d74e9454ee5caf31952733146ee00f8154502441cd797a56b6df69d60e3d36"
   }
  }
 },
 "nbformat": 4,
 "nbformat_minor": 5
}
