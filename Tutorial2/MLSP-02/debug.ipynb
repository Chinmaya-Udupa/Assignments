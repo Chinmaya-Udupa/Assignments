{
 "cells": [
  {
   "cell_type": "code",
   "execution_count": 2,
   "metadata": {},
   "outputs": [],
   "source": [
    "import numpy as np\n",
    "\n",
    "def Bayes_Discriminator(X,mu0,mu1,Sigma0,Sigma1,p0,p1,L10,L01):\n",
    "    \n",
    "    X = np.array(X)\n",
    "    mu0 = np.array(mu0)\n",
    "    mu1 = np.array(mu1)\n",
    "    Sigma0 = np.array(Sigma0)\n",
    "    Sigma1 = np.array(Sigma1)\n",
    "    \n",
    "    \n",
    "    Sigma0_inv = np.linalg.inv(Sigma0)\n",
    "    Sigma1_inv = np.linalg.inv(Sigma1)\n",
    "    #-------------------------------------------------------------#\n",
    "    try:\n",
    "        Quad = X.T@(Sigma1_inv - Sigma0_inv)@X\n",
    "    except:\n",
    "        print(\"Either dimensions of X and Sigma or dimensions of Sigma0 and Sigma1 dont maatch\")\n",
    "    else:\n",
    "        Quad = X@(Sigma1_inv - Sigma0_inv)@X.T\n",
    "    #-------------------------------------------------------------#\n",
    "    try:\n",
    "        Lin = 2*X.T@(Sigma0_inv@mu0 - Sigma1_inv@mu1)\n",
    "    except:\n",
    "        print(\"Dimensions of x mu and Sigma dont match\")\n",
    "    else:\n",
    "        Lin = 2*X@(Sigma0_inv@mu0 - Sigma1_inv@mu1).T\n",
    "    #-------------------------------------------------------------#   \n",
    "    try:\n",
    "        Const1 = (mu1.T@Sigma1_inv@mu1) - (mu0.T@Sigma0_inv@mu0)\n",
    "    except:\n",
    "        print(\"Dimensions of Sigma and mu dont match\")\n",
    "    else:\n",
    "        Const1 = mu1@Sigma1_inv@mu1.T - mu0@Sigma0_inv@mu0.T\n",
    "    #-------------------------------------------------------------# \n",
    "    Const2 = 2*np.log(p0*L10/\n",
    "                      p1*L01)\n",
    "    #-------------------------------------------------------------# \n",
    "    Const3 = np.log(np.linalg.det(Sigma1)/\n",
    "                    np.linalg.det(Sigma0))   \n",
    "    \n",
    "    return Quad + Lin + Const1 + Const2 + Const3"
   ]
  },
  {
   "cell_type": "code",
   "execution_count": 5,
   "metadata": {},
   "outputs": [],
   "source": [
    "mu0 = np.array([-2.48646619,  0.23701453])\n",
    "mu1 = np.array([ 1.056773,  -1.2525509])\n",
    "p0,p1 = 0.4838709677419355 ,0.5161290322580645\n"
   ]
  },
  {
   "cell_type": "code",
   "execution_count": 6,
   "metadata": {},
   "outputs": [
    {
     "data": {
      "text/plain": [
       "-5.5246431959999995"
      ]
     },
     "execution_count": 6,
     "metadata": {},
     "output_type": "execute_result"
    }
   ],
   "source": [
    "Sig_0, Sig_1 = np.array([[1,0],[0,1]]), np.array([[1,0],[0,1]])\n",
    "Sigma0_inv = np.linalg.inv(Sig_0)\n",
    "Sigma1_inv = np.linalg.inv(Sig_1)\n",
    "X = np.array([1.2,1])\n",
    "2*X.T@(Sigma0_inv@mu0 - Sigma1_inv@mu1)\n"
   ]
  },
  {
   "cell_type": "code",
   "execution_count": 9,
   "metadata": {},
   "outputs": [
    {
     "data": {
      "text/plain": [
       "1"
      ]
     },
     "execution_count": 9,
     "metadata": {},
     "output_type": "execute_result"
    }
   ],
   "source": [
    "np.min((1,2,3,2,3,4))"
   ]
  },
  {
   "cell_type": "code",
   "execution_count": null,
   "metadata": {},
   "outputs": [],
   "source": []
  }
 ],
 "metadata": {
  "kernelspec": {
   "display_name": "Python 3.10.6 64-bit",
   "language": "python",
   "name": "python3"
  },
  "language_info": {
   "codemirror_mode": {
    "name": "ipython",
    "version": 3
   },
   "file_extension": ".py",
   "mimetype": "text/x-python",
   "name": "python",
   "nbconvert_exporter": "python",
   "pygments_lexer": "ipython3",
   "version": "3.10.6"
  },
  "orig_nbformat": 4,
  "vscode": {
   "interpreter": {
    "hash": "d2d74e9454ee5caf31952733146ee00f8154502441cd797a56b6df69d60e3d36"
   }
  }
 },
 "nbformat": 4,
 "nbformat_minor": 2
}
